{
  "nbformat": 4,
  "nbformat_minor": 0,
  "metadata": {
    "colab": {
      "provenance": []
    },
    "kernelspec": {
      "name": "python3",
      "display_name": "Python 3"
    },
    "language_info": {
      "name": "python"
    }
  },
  "cells": [
    {
      "cell_type": "code",
      "execution_count": null,
      "metadata": {
        "id": "lE7KxfMMN-Vq"
      },
      "outputs": [],
      "source": [
        "#set union , intersection, difference\n",
        "# | ---> union\n",
        "# & ---> intersection\n",
        "# - ---> difference"
      ]
    },
    {
      "cell_type": "code",
      "source": [
        "A={1,2,3,4,4}\n",
        "B={4,7,8,9}\n",
        "#print(A|B)\n",
        "#print(A.union(B))\n",
        "#print(A&B)\n",
        "#print(A.intersection(B))\n",
        "print(B-A)\n",
        "print(A.difference(B))"
      ],
      "metadata": {
        "colab": {
          "base_uri": "https://localhost:8080/"
        },
        "id": "ekhSyz9LOTzk",
        "outputId": "b83bb700-839a-47d3-d6fe-1ae7a26afabb"
      },
      "execution_count": 9,
      "outputs": [
        {
          "output_type": "stream",
          "name": "stdout",
          "text": [
            "{8, 9, 7}\n",
            "{1, 2, 3}\n"
          ]
        }
      ]
    },
    {
      "cell_type": "code",
      "source": [
        "#leap year\n",
        "year=int(input(\"Enter a year: \"))\n",
        "if (year % 400==0) & (year % 100==0):\n",
        "  print(year, \" is a leap year\")\n",
        "elif (year % 4==0) & (year % 100!=0):\n",
        "  print(year,\" is  leap year\")\n",
        "else:\n",
        "  print(year,\" is not a leap year\")"
      ],
      "metadata": {
        "colab": {
          "base_uri": "https://localhost:8080/"
        },
        "id": "c6X8VSD2OoDv",
        "outputId": "391eef9d-db23-4c7b-d5c9-9190215c763f"
      },
      "execution_count": 12,
      "outputs": [
        {
          "output_type": "stream",
          "name": "stdout",
          "text": [
            "Enter a year: 2001\n",
            "2001  is not a leap year\n"
          ]
        }
      ]
    },
    {
      "cell_type": "code",
      "source": [
        "n=int(input(\"enter a num\"))\n",
        "for i in range(1,n+1):\n",
        "  if n%i==0:\n",
        "    print(i)"
      ],
      "metadata": {
        "colab": {
          "base_uri": "https://localhost:8080/"
        },
        "id": "LwG2yutgRFXG",
        "outputId": "3ebb311d-1a8e-4210-c26b-f1be4d6921df"
      },
      "execution_count": 22,
      "outputs": [
        {
          "output_type": "stream",
          "name": "stdout",
          "text": [
            "enter a num25\n",
            "1\n",
            "5\n",
            "25\n"
          ]
        }
      ]
    },
    {
      "cell_type": "code",
      "source": [
        "n=int(input(\"enter a num\"))\n",
        "for i in range(1,11):\n",
        "  print(n*i)\n",
        ""
      ],
      "metadata": {
        "colab": {
          "base_uri": "https://localhost:8080/"
        },
        "id": "iH5hxc1xTzfQ",
        "outputId": "376dcbab-a76f-405b-895b-3c6e508c45e7"
      },
      "execution_count": 24,
      "outputs": [
        {
          "output_type": "stream",
          "name": "stdout",
          "text": [
            "enter a num2\n",
            "2\n",
            "4\n",
            "6\n",
            "8\n",
            "10\n",
            "12\n",
            "14\n",
            "16\n",
            "18\n",
            "20\n"
          ]
        }
      ]
    },
    {
      "cell_type": "code",
      "source": [
        "import calendar"
      ],
      "metadata": {
        "id": "0RmytxJCVhz8"
      },
      "execution_count": 25,
      "outputs": []
    },
    {
      "cell_type": "code",
      "source": [
        "year=int(input('Enter a year: '))\n",
        "month=int(input('Enter a month: '))\n",
        "cal=calendar.month(year,month)\n",
        "print(cal)\n"
      ],
      "metadata": {
        "colab": {
          "base_uri": "https://localhost:8080/"
        },
        "id": "kzUa6rGYVqxl",
        "outputId": "402444de-ea5f-46bd-d00c-9f4a8b0e960c"
      },
      "execution_count": 27,
      "outputs": [
        {
          "output_type": "stream",
          "name": "stdout",
          "text": [
            "Enter a year: 2022\n",
            "Enter a month: 5\n",
            "      May 2022\n",
            "Mo Tu We Th Fr Sa Su\n",
            "                   1\n",
            " 2  3  4  5  6  7  8\n",
            " 9 10 11 12 13 14 15\n",
            "16 17 18 19 20 21 22\n",
            "23 24 25 26 27 28 29\n",
            "30 31\n",
            "\n"
          ]
        }
      ]
    },
    {
      "cell_type": "code",
      "source": [
        "a=9.8\n",
        "b=7\n",
        "c=\"zainab\"\n",
        "#print(f\"my name is %s\" %(c))\n",
        "print(\"My name is %s and my age is %d and floating value is %.3f\" %(c,b,a) )\n",
        "print(\"My name is {} and her age is {}\".format(c,b))\n"
      ],
      "metadata": {
        "colab": {
          "base_uri": "https://localhost:8080/"
        },
        "id": "AeKKg8jWWyQU",
        "outputId": "b3dd915e-fc7c-46a9-ce16-db79357b17da"
      },
      "execution_count": 75,
      "outputs": [
        {
          "output_type": "stream",
          "name": "stdout",
          "text": [
            "My name is zainab and my age is 7 and floating value is 9.800\n",
            "My name is zainab and her age is 7\n"
          ]
        }
      ]
    },
    {
      "cell_type": "code",
      "source": [
        "name1='zainab'\n",
        "name2='jannat'\n",
        "store_name=\"My name is {} and her name is {}\".format(name1,name2)\n",
        "print(store_name)"
      ],
      "metadata": {
        "colab": {
          "base_uri": "https://localhost:8080/"
        },
        "id": "Vzad6shjYIm5",
        "outputId": "649a05fd-f765-4c69-cf0e-bfaa1656a5fb"
      },
      "execution_count": 36,
      "outputs": [
        {
          "output_type": "stream",
          "name": "stdout",
          "text": [
            "My name is zainab and her name is jannat\n"
          ]
        }
      ]
    },
    {
      "cell_type": "code",
      "source": [
        "friend=\"I have many friends but my best friends are {0},{1} and {2}\".format('alisba','fiza','sana')\n",
        "print(friend)"
      ],
      "metadata": {
        "colab": {
          "base_uri": "https://localhost:8080/"
        },
        "id": "ElyRA0uPYgbU",
        "outputId": "0368bdfc-b918-40e3-9be4-d57429fa5db0"
      },
      "execution_count": 41,
      "outputs": [
        {
          "output_type": "stream",
          "name": "stdout",
          "text": [
            "I have many friends but my best friends are alisba,fiza and sana\n"
          ]
        }
      ]
    }
  ]
}